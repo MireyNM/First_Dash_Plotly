{
 "cells": [
  {
   "cell_type": "code",
   "execution_count": 1,
   "id": "c656cf18",
   "metadata": {},
   "outputs": [
    {
     "name": "stdout",
     "output_type": "stream",
     "text": [
      "     State  ANSI Affected by  Year state_code  Pct of Colonies Impacted\n",
      "0  Alabama     1     Disease  2015         AL                      0.05\n",
      "1  Alabama     1     Disease  2016         AL                      1.20\n",
      "2  Alabama     1     Disease  2017         AL                      2.25\n",
      "3  Alabama     1     Disease  2018         AL                      1.30\n",
      "4  Alabama     1     Disease  2019         AL                      1.80\n"
     ]
    }
   ],
   "source": [
    "import pandas as pd\n",
    "import plotly.express as px  # (version 4.7.0 or higher)\n",
    "import plotly.graph_objects as go\n",
    "from dash import Dash, dcc, html, Input, Output  # pip install dash (version 2.0.0 or higher)\n",
    "\n",
    "\n",
    "\n",
    "\n",
    "# Create the Dash app\n",
    "app = Dash(__name__)\n",
    "\n",
    "# -- Import and clean data (importing csv into pandas)\n",
    "# df = pd.read_csv(\"intro_bees.csv\")\n",
    "df = pd.read_csv(\"data/intro_bees.csv\")\n",
    "\n",
    "df = df.groupby(['State', 'ANSI', 'Affected by', 'Year', 'state_code'])[['Pct of Colonies Impacted']].mean()\n",
    "df.reset_index(inplace=True)\n",
    "print(df[:5])\n"
   ]
  },
  {
   "cell_type": "code",
   "execution_count": 2,
   "id": "cbf1ae7b",
   "metadata": {},
   "outputs": [
    {
     "data": {
      "text/plain": [
       "array(['Disease', 'Other', 'Pesticides', 'Pests_excl_Varroa', 'Unknown',\n",
       "       'Varroa_mites'], dtype=object)"
      ]
     },
     "execution_count": 2,
     "metadata": {},
     "output_type": "execute_result"
    }
   ],
   "source": [
    "# Find all unique Diseases \n",
    "df['Affected by'].unique()"
   ]
  },
  {
   "cell_type": "code",
   "execution_count": 3,
   "id": "f443985e",
   "metadata": {},
   "outputs": [],
   "source": [
    "bee_killers = [\"Disease\", \"Other\", \"Pesticides\", \"Pests_excl_Varroa\", \"Unknown\", \"Varroa_mites\"]"
   ]
  },
  {
   "cell_type": "code",
   "execution_count": 4,
   "id": "e88155ef",
   "metadata": {},
   "outputs": [
    {
     "data": {
      "text/plain": [
       "array(['Alabama', 'Arizona', 'Arkansas', 'California', 'Colorado',\n",
       "       'Connecticut', 'Florida', 'Georgia', 'Hawaii', 'Idaho', 'Illinois',\n",
       "       'Indiana', 'Iowa', 'Kansas', 'Kentucky', 'Louisiana', 'Maine',\n",
       "       'Maryland', 'Massachusetts', 'Michigan', 'Minnesota',\n",
       "       'Mississippi', 'Missouri', 'Montana', 'Nebraska', 'New Jersey',\n",
       "       'New Mexico', 'New York', 'North Carolina', 'North Dakota', 'Ohio',\n",
       "       'Oklahoma', 'Oregon', 'Pennsylvania', 'South Carolina',\n",
       "       'South Dakota', 'Tennessee', 'Texas', 'Utah', 'Vermont',\n",
       "       'Virginia', 'Washington', 'West Virginia', 'Wisconsin', 'Wyoming'],\n",
       "      dtype=object)"
      ]
     },
     "execution_count": 4,
     "metadata": {},
     "output_type": "execute_result"
    }
   ],
   "source": [
    "# Find all unique States \n",
    "df['State'].unique()"
   ]
  },
  {
   "cell_type": "code",
   "execution_count": 5,
   "id": "60263dd8",
   "metadata": {},
   "outputs": [],
   "source": [
    "state_names = ['Alabama', 'Arizona', 'Arkansas', 'California', 'Colorado',\n",
    "               'Connecticut', 'Florida', 'Georgia', 'Hawaii', 'Idaho', 'Illinois',\n",
    "               'Indiana', 'Iowa', 'Kansas', 'Kentucky', 'Louisiana', 'Maine',\n",
    "               'Maryland', 'Massachusetts', 'Michigan', 'Minnesota',\n",
    "               'Mississippi', 'Missouri', 'Montana', 'Nebraska', 'New Jersey',\n",
    "               'New Mexico', 'New York', 'North Carolina', 'North Dakota', 'Ohio',\n",
    "               'Oklahoma', 'Oregon', 'Pennsylvania', 'South Carolina',\n",
    "               'South Dakota', 'Tennessee', 'Texas', 'Utah', 'Vermont',\n",
    "               'Virginia', 'Washington', 'West Virginia', 'Wisconsin', 'Wyoming']"
   ]
  },
  {
   "cell_type": "code",
   "execution_count": 6,
   "id": "5080df4e",
   "metadata": {},
   "outputs": [],
   "source": [
    "# Set up the App layout\n",
    "app.layout = html.Div([\n",
    "\n",
    "    html.H1(\"Visualization of the % of Bees affected by Varroa_mites in the States  \", style={'text-align': 'center'}),\n",
    "\n",
    "    dcc.Dropdown(id=\"slct_year\",\n",
    "                 options=[\n",
    "                     {\"label\": \"2015\", \"value\": 2015},\n",
    "                     {\"label\": \"2016\", \"value\": 2016},\n",
    "                     {\"label\": \"2017\", \"value\": 2017},\n",
    "                     {\"label\": \"2018\", \"value\": 2018}],\n",
    "                 multi=False,\n",
    "                 value=2015,\n",
    "                 style={'width': \"40%\"}\n",
    "                 ),\n",
    "\n",
    "    html.Div(id='output_container', children=[]),\n",
    "    html.Br(),\n",
    "\n",
    "    dcc.Graph(id='my_bee_map', figure={}),\n",
    "    dcc.Graph(id='my_bee_bar_chart', figure={}),\n",
    "    \n",
    "    html.H1(\"Diseases Affecting the Bees (2015 to 2019)\", style={'text-align': 'center'}),\n",
    "    \n",
    "    dcc.Dropdown(id=\"slct_impact\",\n",
    "                 options=[{\"label\": x, \"value\":x} for x in bee_killers],\n",
    "                 value=\"Pesticides\",\n",
    "                 multi=False,\n",
    "                 style={'width': \"40%\"}\n",
    "                 ),\n",
    "    \n",
    "    html.Div(id='output_container_2', children=[]),\n",
    "    html.Br(),\n",
    "    \n",
    "    dcc.Graph(id='my_bee_line_chart', figure={})\n",
    "])"
   ]
  },
  {
   "cell_type": "code",
   "execution_count": 7,
   "id": "7e5d58a9",
   "metadata": {},
   "outputs": [],
   "source": [
    "# Connect the Plotly graphs with Dash Components\n",
    "@app.callback(\n",
    "    [Output(component_id='output_container', component_property='children'),\n",
    "     Output(component_id='my_bee_map', component_property='figure'),\n",
    "     Output(component_id='my_bee_bar_chart', component_property='figure'),\n",
    "     Output(component_id='output_container_2', component_property='children'),\n",
    "     Output(component_id='my_bee_line_chart', component_property='figure')\n",
    "    ],\n",
    "    [Input(component_id='slct_year', component_property='value'),\n",
    "     Input(component_id='slct_impact', component_property='value')\n",
    "    ],\n",
    "    allow_duplicate=True\n",
    ")\n",
    "\n",
    "\n",
    "# Each argument in the function connects to one input\n",
    "# Since we have 1 input: value, it's connected to 1 argument: option_slctd\n",
    "\n",
    "def update_graph(option_slctd, option_slctd2):\n",
    "    # Good ractice to print the argument \n",
    "    print(option_slctd)\n",
    "    print(type(option_slctd))\n",
    "\n",
    "    container = \"The year chosen by user was: {}\".format(option_slctd)\n",
    "\n",
    "    # Copy the df\n",
    "    dff = df.copy()\n",
    "    # Choose rows with the selected year in the dropdown \n",
    "    dff = dff[dff[\"Year\"] == option_slctd]\n",
    "    # Choose bees affected only by Varroa_mites disease \n",
    "    dff = dff[dff[\"Affected by\"] == \"Varroa_mites\"]\n",
    "\n",
    "    # Plotly Express\n",
    "    \n",
    "    # Map\n",
    "    fig = px.choropleth(\n",
    "        data_frame= dff,\n",
    "        locationmode='USA-states',\n",
    "        locations='state_code',\n",
    "        scope=\"usa\",\n",
    "        color='Pct of Colonies Impacted',\n",
    "        hover_data=['State', 'Pct of Colonies Impacted'],\n",
    "        color_continuous_scale=px.colors.sequential.YlOrRd,\n",
    "        labels={'Pct of Colonies Impacted': '% of Bee Colonies'},\n",
    "        template='plotly_dark'\n",
    "    )    \n",
    "    \n",
    "    # Bar Chart\n",
    "    fig1 = px.bar(\n",
    "        data_frame=dff,\n",
    "        x='State',\n",
    "        y='Pct of Colonies Impacted',\n",
    "        hover_data=['State', 'Pct of Colonies Impacted'],\n",
    "        labels={'Pct of Colonies Impacted': '% of Bee Colonies'},\n",
    "        template='plotly_dark'\n",
    "    )\n",
    "    \n",
    "    \n",
    "    container2 = \"The disease chosen by user was: {}\".format(option_slctd2)\n",
    "\n",
    "    dff2 = df.copy()\n",
    "    dff2 = dff2[dff2[\"Affected by\"] == option_slctd2]\n",
    "    #dff2 = dff2[(dff2[\"State\"] == \"Idaho\") | (dff2[\"State\"] == \"New York\") | (dff2[\"State\"] == \"New Mexico\")]\n",
    "    # Filter dff2 for all states in the state_names list\n",
    "    dff2 = dff2[dff2[\"State\"].isin(state_names)]\n",
    "    \n",
    "    # Line Chart\n",
    "    fig2=  px.line(\n",
    "        data_frame=dff2,\n",
    "        x='Year',\n",
    "        y='Pct of Colonies Impacted',\n",
    "        color='State',\n",
    "        template='plotly_dark'\n",
    "    )\n",
    "        \n",
    "    return container, fig, fig1, container2, fig2\n"
   ]
  },
  {
   "cell_type": "code",
   "execution_count": 8,
   "id": "79668325",
   "metadata": {},
   "outputs": [
    {
     "data": {
      "text/html": [
       "\n",
       "        <iframe\n",
       "            width=\"100%\"\n",
       "            height=\"650\"\n",
       "            src=\"http://127.0.0.1:8054/\"\n",
       "            frameborder=\"0\"\n",
       "            allowfullscreen\n",
       "            \n",
       "        ></iframe>\n",
       "        "
      ],
      "text/plain": [
       "<IPython.lib.display.IFrame at 0x7fc6fcd89e90>"
      ]
     },
     "metadata": {},
     "output_type": "display_data"
    },
    {
     "name": "stdout",
     "output_type": "stream",
     "text": [
      "2015\n",
      "<class 'int'>\n",
      "2015\n",
      "<class 'int'>\n",
      "2016\n",
      "<class 'int'>\n",
      "2017\n",
      "<class 'int'>\n",
      "2018\n",
      "<class 'int'>\n",
      "2015\n",
      "<class 'int'>\n",
      "2018\n",
      "<class 'int'>\n",
      "2018\n",
      "<class 'int'>\n",
      "2018\n",
      "<class 'int'>\n",
      "2018\n",
      "<class 'int'>\n",
      "2018\n",
      "<class 'int'>\n"
     ]
    }
   ],
   "source": [
    "if __name__ == '__main__':\n",
    "    app.run_server(port=8054, debug=True)\n",
    "    \n",
    "# Or type http://127.0.0.1:8054/ in chrome to get the dashboard "
   ]
  }
 ],
 "metadata": {
  "kernelspec": {
   "display_name": "PythonData",
   "language": "python",
   "name": "pythondata"
  },
  "language_info": {
   "codemirror_mode": {
    "name": "ipython",
    "version": 3
   },
   "file_extension": ".py",
   "mimetype": "text/x-python",
   "name": "python",
   "nbconvert_exporter": "python",
   "pygments_lexer": "ipython3",
   "version": "3.7.13"
  }
 },
 "nbformat": 4,
 "nbformat_minor": 5
}
